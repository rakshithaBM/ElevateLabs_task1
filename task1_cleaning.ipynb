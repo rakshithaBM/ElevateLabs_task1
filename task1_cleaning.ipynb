{
 "cells": [
  {
   "cell_type": "code",
   "execution_count": 3,
   "id": "062d90c8-230d-48bd-9f0c-7853b0783f91",
   "metadata": {},
   "outputs": [
    {
     "name": "stdout",
     "output_type": "stream",
     "text": [
      "✅ Cleaned dataset saved as cleaned_marketing_campaign.csv\n"
     ]
    }
   ],
   "source": [
    "import pandas as pd\n",
    "\n",
    "# Load CSV (no need to rename columns yet)\n",
    "df = pd.read_csv('marketing_campaign.csv')\n",
    "\n",
    "# Handle missing income values\n",
    "df['income'] = df['income'].fillna(df['income'].median())\n",
    "\n",
    "# Remove duplicates\n",
    "df = df.drop_duplicates(subset='id')\n",
    "\n",
    "# Clean text columns\n",
    "df['education'] = df['education'].str.strip().str.title()\n",
    "df['marital_status'] = df['marital_status'].str.strip().str.title()\n",
    "\n",
    "# Convert dt_customer to datetime\n",
    "df['dt_customer'] = pd.to_datetime(df['dt_customer'], dayfirst=True, errors='coerce')\n",
    "\n",
    "# Create Age and Years as Customer\n",
    "df['age'] = 2025 - df['year_birth']\n",
    "df['years_as_customer'] = 2025 - df['dt_customer'].dt.year\n",
    "\n",
    "# Create Total Spend and Total Accepted Campaigns\n",
    "spend_cols = ['mntwines','mntfruits','mntmeatproducts','mntfishproducts','mntsweetproducts','mntgoldprods']\n",
    "df['total_spend'] = df[spend_cols].sum(axis=1)\n",
    "\n",
    "promo_cols = ['acceptedcmp1','acceptedcmp2','acceptedcmp3','acceptedcmp4','acceptedcmp5','response']\n",
    "df['total_accepted_cmp'] = df[promo_cols].sum(axis=1)\n",
    "\n",
    "# Save cleaned file\n",
    "df.to_csv('cleaned_marketing_campaign.csv', index=False)\n",
    "\n",
    "print(\"✅ Cleaned dataset saved as cleaned_marketing_campaign.csv\")\n"
   ]
  },
  {
   "cell_type": "code",
   "execution_count": null,
   "id": "7aa67bbd-2984-4af0-9f92-eeaf8602451f",
   "metadata": {},
   "outputs": [],
   "source": []
  }
 ],
 "metadata": {
  "kernelspec": {
   "display_name": "Python 3 (ipykernel)",
   "language": "python",
   "name": "python3"
  },
  "language_info": {
   "codemirror_mode": {
    "name": "ipython",
    "version": 3
   },
   "file_extension": ".py",
   "mimetype": "text/x-python",
   "name": "python",
   "nbconvert_exporter": "python",
   "pygments_lexer": "ipython3",
   "version": "3.12.7"
  }
 },
 "nbformat": 4,
 "nbformat_minor": 5
}
